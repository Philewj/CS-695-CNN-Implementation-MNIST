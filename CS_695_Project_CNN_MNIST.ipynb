{
  "cells": [
    {
      "cell_type": "markdown",
      "metadata": {
        "id": "view-in-github",
        "colab_type": "text"
      },
      "source": [
        "<a href=\"https://colab.research.google.com/github/Philewj/CS-695-CNN-Implementation-MNIST/blob/main/CS_695_Project_CNN_MNIST.ipynb\" target=\"_parent\"><img src=\"https://colab.research.google.com/assets/colab-badge.svg\" alt=\"Open In Colab\"/></a>"
      ]
    },
    {
      "cell_type": "markdown",
      "metadata": {
        "id": "t__Wtr9GZqkd"
      },
      "source": [
        "# Project: Implementing CNN for the MNIST Dataset"
      ]
    },
    {
      "cell_type": "markdown",
      "metadata": {
        "id": "lxPG0WjoaG5K"
      },
      "source": [
        "## Building Model"
      ]
    },
    {
      "cell_type": "code",
      "execution_count": null,
      "metadata": {
        "id": "BRhZDdkya5tk"
      },
      "outputs": [],
      "source": [
        "import torch\n",
        "import torch.nn as nn\n",
        "import torch.nn.functional as F\n",
        "from torch.utils.data import DataLoader\n",
        "from torchvision import datasets, transforms\n",
        "from torchvision.utils import make_grid\n",
        "\n",
        "import numpy as np\n",
        "import pandas as pd\n",
        "from sklearn.metrics import confusion_matrix\n",
        "import matplotlib.pyplot as plt\n",
        "%matplotlib inline"
      ]
    },
    {
      "cell_type": "markdown",
      "metadata": {
        "id": "zy5cbnDHamLx"
      },
      "source": [
        "### Load Data"
      ]
    },
    {
      "cell_type": "code",
      "execution_count": null,
      "metadata": {
        "id": "0PoQl4GvaFhp",
        "colab": {
          "base_uri": "https://localhost:8080/"
        },
        "outputId": "65966b80-c7d8-4cf3-bab3-a851203dd58e"
      },
      "outputs": [
        {
          "output_type": "stream",
          "name": "stdout",
          "text": [
            "Downloading http://yann.lecun.com/exdb/mnist/train-images-idx3-ubyte.gz\n",
            "Failed to download (trying next):\n",
            "<urlopen error [Errno 111] Connection refused>\n",
            "\n",
            "Downloading https://ossci-datasets.s3.amazonaws.com/mnist/train-images-idx3-ubyte.gz\n",
            "Downloading https://ossci-datasets.s3.amazonaws.com/mnist/train-images-idx3-ubyte.gz to /cnn_data/MNIST/raw/train-images-idx3-ubyte.gz\n"
          ]
        },
        {
          "output_type": "stream",
          "name": "stderr",
          "text": [
            "100%|██████████| 9.91M/9.91M [00:00<00:00, 16.1MB/s]\n"
          ]
        },
        {
          "output_type": "stream",
          "name": "stdout",
          "text": [
            "Extracting /cnn_data/MNIST/raw/train-images-idx3-ubyte.gz to /cnn_data/MNIST/raw\n",
            "\n",
            "Downloading http://yann.lecun.com/exdb/mnist/train-labels-idx1-ubyte.gz\n",
            "Failed to download (trying next):\n",
            "<urlopen error [Errno 111] Connection refused>\n",
            "\n",
            "Downloading https://ossci-datasets.s3.amazonaws.com/mnist/train-labels-idx1-ubyte.gz\n",
            "Downloading https://ossci-datasets.s3.amazonaws.com/mnist/train-labels-idx1-ubyte.gz to /cnn_data/MNIST/raw/train-labels-idx1-ubyte.gz\n"
          ]
        },
        {
          "output_type": "stream",
          "name": "stderr",
          "text": [
            "100%|██████████| 28.9k/28.9k [00:00<00:00, 485kB/s]\n"
          ]
        },
        {
          "output_type": "stream",
          "name": "stdout",
          "text": [
            "Extracting /cnn_data/MNIST/raw/train-labels-idx1-ubyte.gz to /cnn_data/MNIST/raw\n",
            "\n",
            "Downloading http://yann.lecun.com/exdb/mnist/t10k-images-idx3-ubyte.gz\n",
            "Failed to download (trying next):\n",
            "<urlopen error [Errno 111] Connection refused>\n",
            "\n",
            "Downloading https://ossci-datasets.s3.amazonaws.com/mnist/t10k-images-idx3-ubyte.gz\n",
            "Downloading https://ossci-datasets.s3.amazonaws.com/mnist/t10k-images-idx3-ubyte.gz to /cnn_data/MNIST/raw/t10k-images-idx3-ubyte.gz\n"
          ]
        },
        {
          "output_type": "stream",
          "name": "stderr",
          "text": [
            "100%|██████████| 1.65M/1.65M [00:00<00:00, 4.47MB/s]\n"
          ]
        },
        {
          "output_type": "stream",
          "name": "stdout",
          "text": [
            "Extracting /cnn_data/MNIST/raw/t10k-images-idx3-ubyte.gz to /cnn_data/MNIST/raw\n",
            "\n",
            "Downloading http://yann.lecun.com/exdb/mnist/t10k-labels-idx1-ubyte.gz\n",
            "Failed to download (trying next):\n",
            "<urlopen error [Errno 111] Connection refused>\n",
            "\n",
            "Downloading https://ossci-datasets.s3.amazonaws.com/mnist/t10k-labels-idx1-ubyte.gz\n",
            "Downloading https://ossci-datasets.s3.amazonaws.com/mnist/t10k-labels-idx1-ubyte.gz to /cnn_data/MNIST/raw/t10k-labels-idx1-ubyte.gz\n"
          ]
        },
        {
          "output_type": "stream",
          "name": "stderr",
          "text": [
            "100%|██████████| 4.54k/4.54k [00:00<00:00, 12.1MB/s]"
          ]
        },
        {
          "output_type": "stream",
          "name": "stdout",
          "text": [
            "Extracting /cnn_data/MNIST/raw/t10k-labels-idx1-ubyte.gz to /cnn_data/MNIST/raw\n",
            "\n"
          ]
        },
        {
          "output_type": "stream",
          "name": "stderr",
          "text": [
            "\n"
          ]
        }
      ],
      "source": [
        "#Covert MNIST Image Files into Tensors of 4 Dimensions (# of images, Height, Width, Color Channels)\n",
        "transform = transforms.ToTensor()\n",
        "#Load Training Data\n",
        "train_data = datasets.MNIST(root='/cnn_data', train=True, download=True, transform=transform)\n",
        "#Load Testing Data\n",
        "test_data = datasets.MNIST(root='/cnn_data', train=False, download=True, transform=transform)"
      ]
    },
    {
      "cell_type": "code",
      "execution_count": null,
      "metadata": {
        "colab": {
          "base_uri": "https://localhost:8080/"
        },
        "id": "ggTQlYW0ZNmQ",
        "outputId": "63cb8119-528d-40d0-a0c3-f9eed209952d"
      },
      "outputs": [
        {
          "output_type": "execute_result",
          "data": {
            "text/plain": [
              "Dataset MNIST\n",
              "    Number of datapoints: 60000\n",
              "    Root location: /cnn_data\n",
              "    Split: Train\n",
              "    StandardTransform\n",
              "Transform: ToTensor()"
            ]
          },
          "metadata": {},
          "execution_count": 5
        }
      ],
      "source": [
        "#Verifying Training Data\n",
        "train_data"
      ]
    },
    {
      "cell_type": "code",
      "execution_count": null,
      "metadata": {
        "colab": {
          "base_uri": "https://localhost:8080/"
        },
        "id": "XBIlDT64b6if",
        "outputId": "406f1adc-6b61-43df-c53b-099f890e555b"
      },
      "outputs": [
        {
          "output_type": "execute_result",
          "data": {
            "text/plain": [
              "Dataset MNIST\n",
              "    Number of datapoints: 10000\n",
              "    Root location: /cnn_data\n",
              "    Split: Test\n",
              "    StandardTransform\n",
              "Transform: ToTensor()"
            ]
          },
          "metadata": {},
          "execution_count": 6
        }
      ],
      "source": [
        "#Verifying Testing Data\n",
        "test_data"
      ]
    },
    {
      "cell_type": "markdown",
      "metadata": {
        "id": "-yhYpMBpdimN"
      },
      "source": [
        "### Build Model"
      ]
    },
    {
      "cell_type": "code",
      "execution_count": null,
      "metadata": {
        "id": "7tPvmaUxd0I3"
      },
      "outputs": [],
      "source": [
        "#Model Class\n",
        "class ConvolutionalNeuralNetwork(nn.Module):\n",
        "  def __init__(self):\n",
        "    super().__init__()\n",
        "    # Create 2 Convolutional Layers\n",
        "    self.convolution_layer1 = nn.Conv2d(in_channels=1, out_channels=6, kernel_size=3,stride=1)\n",
        "    self.convolution_layer2 = nn.Conv2d(in_channels=6, out_channels=16, kernel_size=3,stride=1)\n",
        "\n",
        "    #Fully Connected Neural Layers\n",
        "    self.fc1 = nn.Linear(in_features=5*5*16, out_features=120)\n",
        "    self.dropout1 = nn.Dropout(0.25)\n",
        "    self.fc2 = nn.Linear(in_features=120, out_features=85) # decrease the number of out features (can be an arbitrary number)\n",
        "    self.dropout2 = nn.Dropout(0.25)\n",
        "    self.fc3 = nn.Linear(in_features=85, out_features=55) # is the number of classes in the dataset\n",
        "    self.dropout3 = nn.Dropout(0.25)\n",
        "    self.fc4 = nn.Linear(in_features=55, out_features=10) # is the number of classes in the dataset\n",
        "\n",
        "  def forward(self, X):\n",
        "    # Pass through Convolutional Layer 1\n",
        "    X = F.relu(self.convolution_layer1(X))\n",
        "    X = F.max_pool2d(X, 2, 2)\n",
        "    # Pass through Convolutional Layer 2\n",
        "    X = F.relu(self.convolution_layer2(X))\n",
        "    X = F.max_pool2d(X, 2, 2)\n",
        "\n",
        "    #Re-View data to flatten it out\n",
        "    X = X.view(-1, 16*5*5) # -1 so we can vary batch size\n",
        "\n",
        "    #Pass through the Fully Connected Layers\n",
        "    X = F.relu(self.fc1(X))\n",
        "    X = self.dropout1(X)\n",
        "    X = F.relu(self.fc2(X))\n",
        "    X = self.dropout2(X)\n",
        "    X = F.relu(self.fc3(X))\n",
        "    X = self.dropout3(X)\n",
        "    X = self.fc4(X)\n",
        "    return F.log_softmax(X, dim=1)"
      ]
    },
    {
      "cell_type": "code",
      "execution_count": null,
      "metadata": {
        "colab": {
          "base_uri": "https://localhost:8080/"
        },
        "id": "TWnLyzf5fnB-",
        "outputId": "42828c80-4826-4e17-884b-9b2adf22d4ba"
      },
      "outputs": [
        {
          "output_type": "execute_result",
          "data": {
            "text/plain": [
              "ConvolutionalNeuralNetwork(\n",
              "  (convolution_layer1): Conv2d(1, 6, kernel_size=(3, 3), stride=(1, 1))\n",
              "  (convolution_layer2): Conv2d(6, 16, kernel_size=(3, 3), stride=(1, 1))\n",
              "  (fc1): Linear(in_features=400, out_features=120, bias=True)\n",
              "  (dropout1): Dropout(p=0.25, inplace=False)\n",
              "  (fc2): Linear(in_features=120, out_features=85, bias=True)\n",
              "  (dropout2): Dropout(p=0.25, inplace=False)\n",
              "  (fc3): Linear(in_features=85, out_features=55, bias=True)\n",
              "  (dropout3): Dropout(p=0.25, inplace=False)\n",
              "  (fc4): Linear(in_features=55, out_features=10, bias=True)\n",
              ")"
            ]
          },
          "metadata": {},
          "execution_count": 8
        }
      ],
      "source": [
        "#Create an Intance of the Model\n",
        "#Create a manual seed\n",
        "torch.manual_seed(34)\n",
        "model = ConvolutionalNeuralNetwork()\n",
        "model"
      ]
    },
    {
      "cell_type": "code",
      "execution_count": null,
      "metadata": {
        "id": "2HWpphccf1eA"
      },
      "outputs": [],
      "source": [
        "#Loss Function Optimizer\n",
        "criterion = nn.CrossEntropyLoss()\n",
        "optimizer = torch.optim.Adam(model.parameters(), lr=0.001)"
      ]
    },
    {
      "cell_type": "markdown",
      "metadata": {
        "id": "7424bd92"
      },
      "source": [
        "### Training and Validation Accuracy/Loss"
      ]
    },
    {
      "cell_type": "code",
      "execution_count": null,
      "metadata": {
        "colab": {
          "base_uri": "https://localhost:8080/",
          "height": 487
        },
        "id": "b82248c9",
        "outputId": "949a0059-591c-4dca-890b-f60227d28c22"
      },
      "outputs": [
        {
          "output_type": "display_data",
          "data": {
            "text/plain": [
              "<Figure size 1200x500 with 2 Axes>"
            ],
            "image/png": "[encoded data removed]"
          },
          "metadata": {}
        }
      ],
      "source": [
        "\n",
        "# Function to train and log accuracy/loss\n",
        "def train_and_log(model, train_loader, test_loader, optimizer, criterion, epochs=10):\n",
        "    train_losses = []\n",
        "    test_losses = []\n",
        "    train_accuracies = []\n",
        "    test_accuracies = []\n",
        "\n",
        "    for epoch in range(epochs):\n",
        "        model.train()\n",
        "        running_loss = 0.0\n",
        "        correct = 0\n",
        "\n",
        "        for X_batch, y_batch in train_loader:\n",
        "            optimizer.zero_grad()\n",
        "            outputs = model(X_batch)\n",
        "            loss = criterion(outputs, y_batch)\n",
        "            loss.backward()\n",
        "            optimizer.step()\n",
        "            running_loss += loss.item()\n",
        "            _, predicted = torch.max(outputs, 1)\n",
        "            correct += (predicted == y_batch).sum().item()\n",
        "\n",
        "        train_losses.append(running_loss / len(train_loader))\n",
        "        train_accuracies.append(correct / len(train_loader.dataset))\n",
        "\n",
        "        # Evaluate on the test set\n",
        "        model.eval()\n",
        "        test_loss = 0.0\n",
        "        correct = 0\n",
        "        with torch.no_grad():\n",
        "            for X_test, y_test in test_loader:\n",
        "                outputs = model(X_test)\n",
        "                loss = criterion(outputs, y_test)\n",
        "                test_loss += loss.item()\n",
        "                _, predicted = torch.max(outputs, 1)\n",
        "                correct += (predicted == y_test).sum().item()\n",
        "\n",
        "        test_losses.append(test_loss / len(test_loader))\n",
        "        test_accuracies.append(correct / len(test_loader.dataset))\n",
        "\n",
        "    return train_losses, test_losses, train_accuracies, test_accuracies\n",
        "\n",
        "# Plotting function\n",
        "def plot_training_curves(train_losses, test_losses, train_accuracies, test_accuracies):\n",
        "    epochs = range(1, len(train_losses) + 1)\n",
        "\n",
        "    plt.figure(figsize=(12, 5))\n",
        "    # Loss Plot\n",
        "    plt.subplot(1, 2, 1)\n",
        "    plt.plot(epochs, train_losses, label=\"Train Loss\")\n",
        "    plt.plot(epochs, test_losses, label=\"Test Loss\")\n",
        "    plt.xlabel(\"Epochs\")\n",
        "    plt.ylabel(\"Loss\")\n",
        "    plt.title(\"Training and Validation Loss\")\n",
        "    plt.legend()\n",
        "\n",
        "    # Accuracy Plot\n",
        "    plt.subplot(1, 2, 2)\n",
        "    plt.plot(epochs, train_accuracies, label=\"Train Accuracy\")\n",
        "    plt.plot(epochs, test_accuracies, label=\"Test Accuracy\")\n",
        "    plt.xlabel(\"Epochs\")\n",
        "    plt.ylabel(\"Accuracy\")\n",
        "    plt.title(\"Training and Validation Accuracy\")\n",
        "    plt.legend()\n",
        "\n",
        "    plt.show()\n",
        "\n",
        "# Example usage\n",
        "model = ConvolutionalNeuralNetwork()#(dropout=0.5)\n",
        "criterion = nn.CrossEntropyLoss()\n",
        "optimizer = torch.optim.Adam(model.parameters(), lr=0.001)\n",
        "train_loader = DataLoader(train_data, batch_size=64, shuffle=True)\n",
        "test_loader = DataLoader(test_data, batch_size=64, shuffle=False)\n",
        "\n",
        "train_losses, test_losses, train_accuracies, test_accuracies = train_and_log(\n",
        "    model, train_loader, test_loader, optimizer, criterion, epochs=10\n",
        ")\n",
        "\n",
        "# Plot the curves\n",
        "plot_training_curves(train_losses, test_losses, train_accuracies, test_accuracies)\n"
      ]
    },
    {
      "cell_type": "markdown",
      "metadata": {
        "id": "96a1f8d7"
      },
      "source": [
        "### Visualizing Filters and Feature Maps"
      ]
    },
    {
      "cell_type": "code",
      "execution_count": null,
      "metadata": {
        "colab": {
          "base_uri": "https://localhost:8080/",
          "height": 419
        },
        "id": "cd790daf",
        "outputId": "c345944a-e5ef-414a-f679-33c69f9c77a5"
      },
      "outputs": [
        {
          "output_type": "display_data",
          "data": {
            "text/plain": [
              "<Figure size 1000x1000 with 6 Axes>"
            ],
            "image/png": "[encoded data removed]"
          },
          "metadata": {}
        },
        {
          "output_type": "display_data",
          "data": {
            "text/plain": [
              "<Figure size 1000x1000 with 6 Axes>"
            ],
            "image/png": "[encoded data removed]"
          },
          "metadata": {}
        }
      ],
      "source": [
        "\n",
        "# Visualizing filters of the first convolutional layer\n",
        "def visualize_filters(model):\n",
        "    # Access the weights of the first convolutional layer\n",
        "    conv1_weights = model.convolution_layer1.weight.data.cpu()\n",
        "    num_filters = conv1_weights.shape[0]  # Number of filters\n",
        "\n",
        "    plt.figure(figsize=(10, 10))\n",
        "    for i in range(num_filters):\n",
        "        plt.subplot(8, 8, i + 1)  # Adjust grid size based on the number of filters\n",
        "        plt.imshow(conv1_weights[i, 0, :, :], cmap=\"gray\")\n",
        "        plt.axis(\"off\")\n",
        "    plt.suptitle(\"Filters of the First Convolutional Layer\")\n",
        "    plt.show()\n",
        "\n",
        "# Visualizing feature maps for an input image\n",
        "def visualize_feature_maps(model, image):\n",
        "    with torch.no_grad():\n",
        "        # Pass the image through the first convolutional layer\n",
        "        conv1_output = model.convolution_layer1(image.unsqueeze(0))\n",
        "\n",
        "    # Convert feature maps to numpy for visualization\n",
        "    feature_maps = conv1_output.squeeze(0).cpu().numpy()\n",
        "\n",
        "    plt.figure(figsize=(10, 10))\n",
        "    for i in range(feature_maps.shape[0]):\n",
        "        plt.subplot(8, 8, i + 1)  # Adjust grid size\n",
        "        plt.imshow(feature_maps[i, :, :], cmap=\"gray\")\n",
        "        plt.axis(\"off\")\n",
        "    plt.suptitle(\"Feature Maps After First Convolutional Layer\")\n",
        "    plt.show()\n",
        "\n",
        "# Visualize filters and feature maps\n",
        "visualize_filters(model)\n",
        "image = test_data[0][0]  # Use the first test image\n",
        "visualize_feature_maps(model, image)\n"
      ]
    },
    {
      "cell_type": "markdown",
      "metadata": {
        "id": "898324b1"
      },
      "source": [
        "### Hyperparameter Analysis"
      ]
    },
    {
      "cell_type": "code",
      "execution_count": null,
      "metadata": {
        "colab": {
          "base_uri": "https://localhost:8080/"
        },
        "id": "6a909866",
        "outputId": "5b3ccb22-3d46-4d54-dd5a-420e839e7215"
      },
      "outputs": [
        {
          "output_type": "stream",
          "name": "stdout",
          "text": [
            "Training with LR=0.001, Dropout=0.2, Batch Size=64\n",
            "Accuracy: 0.9891, Time: 72.23s\n",
            "Training with LR=0.001, Dropout=0.2, Batch Size=128\n",
            "Accuracy: 0.9847, Time: 65.81s\n",
            "Training with LR=0.001, Dropout=0.5, Batch Size=64\n",
            "Accuracy: 0.9815, Time: 74.15s\n",
            "Training with LR=0.001, Dropout=0.5, Batch Size=128\n",
            "Accuracy: 0.9754, Time: 64.75s\n",
            "Training with LR=0.01, Dropout=0.2, Batch Size=64\n",
            "Accuracy: 0.9766, Time: 72.78s\n",
            "Training with LR=0.01, Dropout=0.2, Batch Size=128\n",
            "Accuracy: 0.9828, Time: 65.54s\n",
            "Training with LR=0.01, Dropout=0.5, Batch Size=64\n",
            "Accuracy: 0.9732, Time: 70.88s\n",
            "Training with LR=0.01, Dropout=0.5, Batch Size=128\n",
            "Accuracy: 0.9755, Time: 65.93s\n",
            "   Learning Rate  Dropout  Batch Size  Accuracy  Training Time (s)\n",
            "0          0.001      0.2          64    0.9891          72.229340\n",
            "1          0.001      0.2         128    0.9847          65.812704\n",
            "2          0.001      0.5          64    0.9815          74.153069\n",
            "3          0.001      0.5         128    0.9754          64.753971\n",
            "4          0.010      0.2          64    0.9766          72.775348\n",
            "5          0.010      0.2         128    0.9828          65.544699\n",
            "6          0.010      0.5          64    0.9732          70.875053\n",
            "7          0.010      0.5         128    0.9755          65.928998\n"
          ]
        }
      ],
      "source": [
        "\n",
        "import time\n",
        "# Function to train the model with different hyperparameters\n",
        "def train_with_hyperparameters(learning_rates, dropout_rates, batch_sizes):\n",
        "    results = []  # To store results for each configuration\n",
        "\n",
        "    for lr in learning_rates:\n",
        "        for dropout in dropout_rates:\n",
        "            for batch_size in batch_sizes:\n",
        "                print(f\"Training with LR={lr}, Dropout={dropout}, Batch Size={batch_size}\")\n",
        "\n",
        "                # Define the model with the given dropout\n",
        "                #model = ConvolutionalNeuralNetwork(dropout=dropout)\n",
        "                model = ConvolutionalNeuralNetwork()\n",
        "                model.dropout1 = nn.Dropout(dropout)\n",
        "                model.dropout2 = nn.Dropout(dropout)\n",
        "                model.dropout3 = nn.Dropout(dropout)\n",
        "                criterion = nn.CrossEntropyLoss()\n",
        "                optimizer = torch.optim.Adam(model.parameters(), lr=lr)\n",
        "\n",
        "                # DataLoader with the given batch size\n",
        "                train_loader = DataLoader(train_data, batch_size=batch_size, shuffle=True)\n",
        "                test_loader = DataLoader(test_data, batch_size=batch_size, shuffle=False)\n",
        "\n",
        "                # Training loop\n",
        "                start_time = time.time()\n",
        "                model.train()\n",
        "                for epoch in range(5):  # Train for 5 epochs\n",
        "                    running_loss = 0.0\n",
        "                    for X_batch, y_batch in train_loader:\n",
        "                        optimizer.zero_grad()\n",
        "                        outputs = model(X_batch)\n",
        "                        loss = criterion(outputs, y_batch)\n",
        "                        loss.backward()\n",
        "                        optimizer.step()\n",
        "                        running_loss += loss.item()\n",
        "\n",
        "                # Evaluate on test set\n",
        "                model.eval()\n",
        "                correct = 0\n",
        "                with torch.no_grad():\n",
        "                    for X_test, y_test in test_loader:\n",
        "                        outputs = model(X_test)\n",
        "                        _, predicted = torch.max(outputs, 1)\n",
        "                        correct += (predicted == y_test).sum().item()\n",
        "\n",
        "                accuracy = correct / len(test_data)\n",
        "                training_time = time.time() - start_time\n",
        "\n",
        "                # Save results\n",
        "                results.append({\n",
        "                    \"Learning Rate\": lr,\n",
        "                    \"Dropout\": dropout,\n",
        "                    \"Batch Size\": batch_size,\n",
        "                    \"Accuracy\": accuracy,\n",
        "                    \"Training Time (s)\": training_time\n",
        "                })\n",
        "                print(f\"Accuracy: {accuracy:.4f}, Time: {training_time:.2f}s\")\n",
        "\n",
        "    return results\n",
        "\n",
        "# Example hyperparameters\n",
        "learning_rates = [0.001, 0.01]\n",
        "dropout_rates = [0.2, 0.5]\n",
        "batch_sizes = [64, 128]\n",
        "\n",
        "# Run the experiments\n",
        "results = train_with_hyperparameters(learning_rates, dropout_rates, batch_sizes)\n",
        "\n",
        "# Visualize the results\n",
        "results_df = pd.DataFrame(results)\n",
        "print(results_df)\n"
      ]
    }
  ],
  "metadata": {
    "colab": {
      "provenance": [],
      "gpuType": "T4",
      "include_colab_link": true
    },
    "kernelspec": {
      "display_name": "Python 3",
      "name": "python3"
    },
    "language_info": {
      "name": "python"
    },
    "accelerator": "GPU"
  },
  "nbformat": 4,
  "nbformat_minor": 0
}